{
  "cells": [
    {
      "cell_type": "markdown",
      "source": [
        "## Land use classification\n",
        "In this project, we will be using images from NASA/USGS's Landsat project to classify what is in satellite images. Thanks to UC Merced for making this data available.\n",
        "\n",
        "\n"
      ],
      "metadata": {
        "id": "J8Ne6pyLBJYG"
      }
    },
    {
      "cell_type": "code",
      "execution_count": 1,
      "metadata": {
        "id": "S_9h66e5xexB"
      },
      "outputs": [],
      "source": [
        "import numpy as np\n",
        "import tensorflow as tf\n",
        "import pandas as pd\n",
        "import json\n",
        "import os\n",
        "from tensorflow.keras.preprocessing.image import ImageDataGenerator"
      ]
    },
    {
      "cell_type": "code",
      "execution_count": 2,
      "metadata": {
        "id": "bi0znx_SFoJF"
      },
      "outputs": [],
      "source": [
        "# Load the label map\n",
        "with open('/content/drive/MyDrive/land-use-classification/data/label_map.json', 'r') as f:\n",
        "    label_map = json.load(f)"
      ]
    },
    {
      "cell_type": "code",
      "execution_count": 3,
      "metadata": {
        "id": "Asg2ld94Y-2L"
      },
      "outputs": [],
      "source": [
        "# Define the paths to the image directories and CSV files\n",
        "train_dir = '/content/drive/MyDrive/land-use-classification/data/images_train_test_val/train'\n",
        "val_dir = '/content/drive/MyDrive/land-use-classification/data/images_train_test_val/validation'\n",
        "test_dir = '/content/drive/MyDrive/land-use-classification/data/images_train_test_val/test'\n",
        "\n",
        "train_csv = '/content/drive/MyDrive/land-use-classification/data/train.csv'\n",
        "val_csv = '/content/drive/MyDrive/land-use-classification/data/validation.csv'\n",
        "test_csv = '/content/drive/MyDrive/land-use-classification/data/test.csv'"
      ]
    },
    {
      "cell_type": "code",
      "execution_count": 4,
      "metadata": {
        "id": "19ip0_GSZvUZ"
      },
      "outputs": [],
      "source": [
        "# Load the CSV files into Pandas dataframes\n",
        "train_df = pd.read_csv(train_csv)\n",
        "val_df = pd.read_csv(val_csv)\n",
        "test_df = pd.read_csv(test_csv)"
      ]
    },
    {
      "cell_type": "code",
      "execution_count": 5,
      "metadata": {
        "id": "tpAFbvALZ0Kl"
      },
      "outputs": [],
      "source": [
        "# Define the image size and batch size\n",
        "IMG_SIZE = 256\n",
        "BATCH_SIZE = 32"
      ]
    },
    {
      "cell_type": "markdown",
      "source": [
        "We have 21 classes and 500 images in each class. We will use augmentation to create more data."
      ],
      "metadata": {
        "id": "vyTJ6S3iBlme"
      }
    },
    {
      "cell_type": "code",
      "execution_count": 6,
      "metadata": {
        "colab": {
          "base_uri": "https://localhost:8080/"
        },
        "id": "YhhURy9-ff_l",
        "outputId": "c8c884a4-af36-4ae8-9fd1-5cd32470daa5"
      },
      "outputs": [
        {
          "output_type": "stream",
          "name": "stdout",
          "text": [
            "Found 7350 validated image filenames belonging to 21 classes.\n",
            "Found 2100 validated image filenames belonging to 21 classes.\n",
            "Found 1050 validated image filenames belonging to 21 classes.\n"
          ]
        }
      ],
      "source": [
        "# Augment training data\n",
        "train_datagen = ImageDataGenerator(rescale=1./255,\n",
        "                                   rotation_range=20,\n",
        "                                   width_shift_range=0.2,\n",
        "                                   height_shift_range=0.2,\n",
        "                                   shear_range=0.2,\n",
        "                                   zoom_range=0.2,\n",
        "                                   horizontal_flip=True)\n",
        "\n",
        "# Define image data generators using ImageDataGenerator\n",
        "train_generator = train_datagen.flow_from_dataframe(train_df,\n",
        "                                                    directory=train_dir,\n",
        "                                                    x_col='Filename',\n",
        "                                                    y_col='ClassName',\n",
        "                                                    target_size=(IMG_SIZE, IMG_SIZE),\n",
        "                                                    batch_size=BATCH_SIZE,\n",
        "                                                    class_mode='categorical')\n",
        "\n",
        "val_datagen = ImageDataGenerator(rescale=1./255)\n",
        "\n",
        "val_generator = val_datagen.flow_from_dataframe(val_df,\n",
        "                                                directory=val_dir,\n",
        "                                                x_col='Filename',\n",
        "                                                y_col='ClassName',\n",
        "                                                target_size=(IMG_SIZE, IMG_SIZE),\n",
        "                                                batch_size=BATCH_SIZE,\n",
        "                                                class_mode='categorical')\n",
        "\n",
        "test_datagen = ImageDataGenerator(rescale=1./255)\n",
        "\n",
        "test_generator = test_datagen.flow_from_dataframe(test_df,\n",
        "                                                  directory=test_dir,\n",
        "                                                  x_col='Filename',\n",
        "                                                  y_col='ClassName',\n",
        "                                                  target_size=(IMG_SIZE, IMG_SIZE),\n",
        "                                                  batch_size=BATCH_SIZE,\n",
        "                                                  class_mode='categorical',\n",
        "                                                  shuffle=False)"
      ]
    },
    {
      "cell_type": "markdown",
      "source": [
        "Many different shapes of CNN were tried, we only kept a few for brevity's sake."
      ],
      "metadata": {
        "id": "nZ-9MugkB0uR"
      }
    },
    {
      "cell_type": "code",
      "execution_count": 7,
      "metadata": {
        "id": "S7pH1kZwg5FK"
      },
      "outputs": [],
      "source": [
        "# Define a baseline CNN model\n",
        "model = tf.keras.Sequential([\n",
        "    tf.keras.layers.Conv2D(32, (3,3), activation='relu', input_shape=(IMG_SIZE, IMG_SIZE, 3)),\n",
        "    tf.keras.layers.MaxPooling2D(2, 2),\n",
        "    tf.keras.layers.Conv2D(64, (3,3), activation='relu'),\n",
        "    tf.keras.layers.MaxPooling2D(2,2),\n",
        "    tf.keras.layers.Conv2D(128, (3,3), activation='relu'),\n",
        "    tf.keras.layers.MaxPooling2D(2,2),\n",
        "    tf.keras.layers.Conv2D(128, (3,3), activation='relu'),\n",
        "    tf.keras.layers.MaxPooling2D(2,2),\n",
        "    tf.keras.layers.Flatten(),\n",
        "    tf.keras.layers.Dropout(0.5),\n",
        "    tf.keras.layers.Dense(512, activation='relu'),\n",
        "    tf.keras.layers.Dense(len(label_map), activation='softmax')\n",
        "])"
      ]
    },
    {
      "cell_type": "code",
      "execution_count": 8,
      "metadata": {
        "id": "j5yjW8nDlvZQ"
      },
      "outputs": [],
      "source": [
        "# Compile the model\n",
        "model.compile(optimizer='adam', loss='categorical_crossentropy', metrics=['accuracy'])"
      ]
    },
    {
      "cell_type": "code",
      "execution_count": 9,
      "metadata": {
        "colab": {
          "base_uri": "https://localhost:8080/"
        },
        "id": "XAn2l2UgmGQ2",
        "outputId": "2edf5149-a175-4108-eca0-981b72a0ae7d"
      },
      "outputs": [
        {
          "output_type": "stream",
          "name": "stdout",
          "text": [
            "Epoch 1/20\n",
            "229/229 [==============================] - 2375s 10s/step - loss: 2.8164 - accuracy: 0.1155 - val_loss: 2.4579 - val_accuracy: 0.2125\n",
            "Epoch 2/20\n",
            "229/229 [==============================] - 128s 560ms/step - loss: 2.1528 - accuracy: 0.3040 - val_loss: 1.6782 - val_accuracy: 0.4409\n",
            "Epoch 3/20\n",
            "229/229 [==============================] - 129s 562ms/step - loss: 1.7218 - accuracy: 0.4388 - val_loss: 1.4766 - val_accuracy: 0.5091\n",
            "Epoch 4/20\n",
            "229/229 [==============================] - 128s 559ms/step - loss: 1.4560 - accuracy: 0.5180 - val_loss: 1.2900 - val_accuracy: 0.5760\n",
            "Epoch 5/20\n",
            "229/229 [==============================] - 128s 560ms/step - loss: 1.2668 - accuracy: 0.5795 - val_loss: 1.0194 - val_accuracy: 0.6543\n",
            "Epoch 6/20\n",
            "229/229 [==============================] - 130s 567ms/step - loss: 1.1530 - accuracy: 0.6181 - val_loss: 0.9492 - val_accuracy: 0.6885\n",
            "Epoch 7/20\n",
            "229/229 [==============================] - 129s 564ms/step - loss: 1.0308 - accuracy: 0.6536 - val_loss: 0.9116 - val_accuracy: 0.7091\n",
            "Epoch 8/20\n",
            "229/229 [==============================] - 129s 564ms/step - loss: 0.9969 - accuracy: 0.6663 - val_loss: 0.9077 - val_accuracy: 0.6909\n",
            "Epoch 9/20\n",
            "229/229 [==============================] - 129s 564ms/step - loss: 0.8973 - accuracy: 0.6970 - val_loss: 0.8144 - val_accuracy: 0.7202\n",
            "Epoch 10/20\n",
            "229/229 [==============================] - 128s 561ms/step - loss: 0.8544 - accuracy: 0.7027 - val_loss: 0.7577 - val_accuracy: 0.7404\n",
            "Epoch 11/20\n",
            "229/229 [==============================] - 129s 563ms/step - loss: 0.7924 - accuracy: 0.7379 - val_loss: 0.7023 - val_accuracy: 0.7543\n",
            "Epoch 12/20\n",
            "229/229 [==============================] - 128s 558ms/step - loss: 0.7721 - accuracy: 0.7386 - val_loss: 0.6217 - val_accuracy: 0.7856\n",
            "Epoch 13/20\n",
            "229/229 [==============================] - 128s 561ms/step - loss: 0.6955 - accuracy: 0.7692 - val_loss: 0.5539 - val_accuracy: 0.8096\n",
            "Epoch 14/20\n",
            "229/229 [==============================] - 129s 563ms/step - loss: 0.6873 - accuracy: 0.7666 - val_loss: 0.5448 - val_accuracy: 0.8159\n",
            "Epoch 15/20\n",
            "229/229 [==============================] - 129s 561ms/step - loss: 0.6607 - accuracy: 0.7719 - val_loss: 0.6125 - val_accuracy: 0.7880\n",
            "Epoch 16/20\n",
            "229/229 [==============================] - 129s 562ms/step - loss: 0.6249 - accuracy: 0.7840 - val_loss: 0.5458 - val_accuracy: 0.8125\n",
            "Epoch 17/20\n",
            "229/229 [==============================] - 129s 561ms/step - loss: 0.5988 - accuracy: 0.7935 - val_loss: 0.6057 - val_accuracy: 0.8087\n",
            "Epoch 18/20\n",
            "229/229 [==============================] - 129s 562ms/step - loss: 0.5609 - accuracy: 0.8170 - val_loss: 0.4834 - val_accuracy: 0.8346\n",
            "Epoch 19/20\n",
            "229/229 [==============================] - 128s 561ms/step - loss: 0.5747 - accuracy: 0.8064 - val_loss: 0.4458 - val_accuracy: 0.8548\n",
            "Epoch 20/20\n",
            "229/229 [==============================] - 128s 561ms/step - loss: 0.5451 - accuracy: 0.8202 - val_loss: 0.5027 - val_accuracy: 0.8356\n"
          ]
        }
      ],
      "source": [
        "# Fit the model\n",
        "history = model.fit(train_generator,\n",
        "                    steps_per_epoch=len(train_df)//BATCH_SIZE,\n",
        "                    epochs=20,\n",
        "                    validation_data=val_generator,\n",
        "                    validation_steps=len(val_df)//BATCH_SIZE)"
      ]
    },
    {
      "cell_type": "code",
      "execution_count": 10,
      "metadata": {
        "colab": {
          "base_uri": "https://localhost:8080/",
          "height": 545
        },
        "id": "q_sEabk7mZWS",
        "outputId": "6d01cce2-7854-4519-c994-5b0cd88e3a6e"
      },
      "outputs": [
        {
          "output_type": "display_data",
          "data": {
            "text/plain": [
              "<Figure size 1200x600 with 2 Axes>"
            ],
            "image/png": "[encoded data removed]"
          },
          "metadata": {}
        }
      ],
      "source": [
        "import matplotlib.pyplot as plt\n",
        "\n",
        "acc = history.history['accuracy']\n",
        "val_acc = history.history['val_accuracy']\n",
        "loss = history.history['loss']\n",
        "val_loss = history.history['val_loss']\n",
        "\n",
        "epochs_range = range(20)\n",
        "\n",
        "plt.figure(figsize=(12, 6))\n",
        "plt.subplot(1, 2, 1)\n",
        "plt.plot(epochs_range, acc, label='Training Accuracy')\n",
        "plt.plot(epochs_range, val_acc, label='Validation Accuracy')\n",
        "plt.legend(loc='lower right')\n",
        "plt.title('Training and Validation Accuracy')\n",
        "\n",
        "plt.subplot(1, 2, 2)\n",
        "plt.plot(epochs_range, loss, label='Training Loss')\n",
        "plt.plot(epochs_range, val_loss, label='Validation Loss')\n",
        "plt.legend(loc='upper right')\n",
        "plt.title('Training and Validation Loss')\n",
        "plt.show()"
      ]
    },
    {
      "cell_type": "code",
      "execution_count": 11,
      "metadata": {
        "colab": {
          "base_uri": "https://localhost:8080/"
        },
        "id": "lWBEwu-pFpwg",
        "outputId": "700001fd-16d7-4f80-8e72-a27b86dacfb7"
      },
      "outputs": [
        {
          "output_type": "stream",
          "name": "stdout",
          "text": [
            "32/32 [==============================] - 239s 8s/step - loss: 0.4964 - accuracy: 0.8369\n",
            "Test accuracy: 0.8369140625\n"
          ]
        }
      ],
      "source": [
        "test_loss, test_acc = model.evaluate(test_generator, steps=len(test_df)//BATCH_SIZE)\n",
        "print('Test accuracy:', test_acc)"
      ]
    },
    {
      "cell_type": "markdown",
      "source": [
        "That did pretty good, we'll see if we can improve on that with a different shape."
      ],
      "metadata": {
        "id": "XC3XBvX-CH2q"
      }
    },
    {
      "cell_type": "code",
      "execution_count": 12,
      "metadata": {
        "id": "Iy-h8UW_HtnY"
      },
      "outputs": [],
      "source": [
        "# See If we can improve the CNN model\n",
        "model_2 = tf.keras.Sequential([\n",
        "    tf.keras.layers.Conv2D(32, (3,3), activation='relu', input_shape=(IMG_SIZE, IMG_SIZE, 3)),\n",
        "    tf.keras.layers.Dropout(0.6),\n",
        "    tf.keras.layers.MaxPooling2D(2, 2),\n",
        "    tf.keras.layers.Conv2D(64, (3,3), activation='relu'),\n",
        "    tf.keras.layers.MaxPooling2D(2,2),\n",
        "    tf.keras.layers.Conv2D(128, (3,3), activation='relu'),\n",
        "    tf.keras.layers.MaxPooling2D(2,2),\n",
        "    tf.keras.layers.Conv2D(128, (3,3), activation='relu'),\n",
        "    tf.keras.layers.MaxPooling2D(2,2),\n",
        "    tf.keras.layers.Flatten(),\n",
        "    tf.keras.layers.Dropout(0.2),\n",
        "    tf.keras.layers.Dense(256, activation='relu'),\n",
        "    tf.keras.layers.Dense(128, activation='relu'),\n",
        "    tf.keras.layers.Dense(64, activation='relu'),\n",
        "    tf.keras.layers.Dense(32, activation='relu'),\n",
        "    tf.keras.layers.Dense(21, activation='softmax')\n",
        "])"
      ]
    },
    {
      "cell_type": "code",
      "execution_count": 13,
      "metadata": {
        "id": "SgflXsjTMM4-"
      },
      "outputs": [],
      "source": [
        "# Compile the model\n",
        "model_2.compile(optimizer='adam', loss='categorical_crossentropy', metrics=['accuracy'])"
      ]
    },
    {
      "cell_type": "code",
      "execution_count": 14,
      "metadata": {
        "id": "H4cdN7cKMRay",
        "colab": {
          "base_uri": "https://localhost:8080/"
        },
        "outputId": "6ce83c89-016e-483c-fd38-15ab45273ddf"
      },
      "outputs": [
        {
          "output_type": "stream",
          "name": "stdout",
          "text": [
            "Epoch 1/20\n",
            "147/147 [==============================] - 89s 568ms/step - loss: 3.0479 - accuracy: 0.0530 - val_loss: 3.0451 - val_accuracy: 0.0461\n",
            "Epoch 2/20\n",
            "147/147 [==============================] - 83s 564ms/step - loss: 3.0457 - accuracy: 0.0519 - val_loss: 3.0443 - val_accuracy: 0.0543\n",
            "Epoch 3/20\n",
            "147/147 [==============================] - 83s 566ms/step - loss: 3.0450 - accuracy: 0.0453 - val_loss: 3.0444 - val_accuracy: 0.0506\n",
            "Epoch 4/20\n",
            "147/147 [==============================] - 83s 564ms/step - loss: 3.0449 - accuracy: 0.0439 - val_loss: 3.0444 - val_accuracy: 0.0476\n",
            "Epoch 5/20\n",
            "147/147 [==============================] - 83s 563ms/step - loss: 3.0449 - accuracy: 0.0456 - val_loss: 3.0447 - val_accuracy: 0.0439\n",
            "Epoch 6/20\n",
            "147/147 [==============================] - 83s 564ms/step - loss: 3.0450 - accuracy: 0.0429 - val_loss: 3.0447 - val_accuracy: 0.0461\n",
            "Epoch 7/20\n",
            "147/147 [==============================] - 83s 563ms/step - loss: 3.0453 - accuracy: 0.0442 - val_loss: 3.0447 - val_accuracy: 0.0543\n",
            "Epoch 8/20\n",
            "147/147 [==============================] - 83s 565ms/step - loss: 3.0449 - accuracy: 0.0518 - val_loss: 3.0446 - val_accuracy: 0.0461\n",
            "Epoch 9/20\n",
            "147/147 [==============================] - 83s 563ms/step - loss: 3.0456 - accuracy: 0.0451 - val_loss: 3.0449 - val_accuracy: 0.0476\n",
            "Epoch 10/20\n",
            "147/147 [==============================] - 83s 563ms/step - loss: 3.0404 - accuracy: 0.0540 - val_loss: 3.0443 - val_accuracy: 0.0484\n",
            "Epoch 11/20\n",
            "147/147 [==============================] - 83s 564ms/step - loss: 3.0435 - accuracy: 0.0507 - val_loss: 3.0435 - val_accuracy: 0.0432\n",
            "Epoch 12/20\n",
            "147/147 [==============================] - 83s 564ms/step - loss: 3.0087 - accuracy: 0.0695 - val_loss: 2.9470 - val_accuracy: 0.0632\n",
            "Epoch 13/20\n",
            "147/147 [==============================] - 82s 561ms/step - loss: 2.7844 - accuracy: 0.0991 - val_loss: 2.7395 - val_accuracy: 0.1034\n",
            "Epoch 14/20\n",
            "147/147 [==============================] - 82s 561ms/step - loss: 2.6167 - accuracy: 0.1327 - val_loss: 2.7125 - val_accuracy: 0.1116\n",
            "Epoch 15/20\n",
            "147/147 [==============================] - 83s 562ms/step - loss: 2.4676 - accuracy: 0.1641 - val_loss: 2.4879 - val_accuracy: 0.2001\n",
            "Epoch 16/20\n",
            "147/147 [==============================] - 82s 561ms/step - loss: 2.3338 - accuracy: 0.1968 - val_loss: 2.3964 - val_accuracy: 0.1838\n",
            "Epoch 17/20\n",
            "147/147 [==============================] - 83s 563ms/step - loss: 2.2830 - accuracy: 0.2079 - val_loss: 2.5402 - val_accuracy: 0.1667\n",
            "Epoch 18/20\n",
            "147/147 [==============================] - 82s 561ms/step - loss: 2.2015 - accuracy: 0.2427 - val_loss: 2.7070 - val_accuracy: 0.1704\n",
            "Epoch 19/20\n",
            "147/147 [==============================] - 83s 564ms/step - loss: 2.1316 - accuracy: 0.2676 - val_loss: 2.5623 - val_accuracy: 0.1704\n",
            "Epoch 20/20\n",
            "147/147 [==============================] - 83s 565ms/step - loss: 2.0497 - accuracy: 0.2944 - val_loss: 2.8011 - val_accuracy: 0.1622\n"
          ]
        }
      ],
      "source": [
        "# Try to speed things up\n",
        "BATCH_SIZE=50\n",
        "\n",
        "# Fit the model\n",
        "history_2 = model_2.fit(train_generator,\n",
        "                    steps_per_epoch=len(train_df)//BATCH_SIZE,\n",
        "                    epochs=10,\n",
        "                    validation_data=val_generator,\n",
        "                    validation_steps=len(val_df)//BATCH_SIZE)"
      ]
    },
    {
      "cell_type": "code",
      "execution_count": 15,
      "metadata": {
        "colab": {
          "base_uri": "https://localhost:8080/"
        },
        "id": "BrKicIaEMveA",
        "outputId": "e6c99abe-477c-4220-a72a-b8850eabdd2a"
      },
      "outputs": [
        {
          "output_type": "stream",
          "name": "stderr",
          "text": [
            "<ipython-input-15-78226172828a>:1: UserWarning: `Model.evaluate_generator` is deprecated and will be removed in a future version. Please use `Model.evaluate`, which supports generators.\n",
            "  test_loss, test_acc = model_2.evaluate_generator(test_generator, steps=len(test_generator))\n"
          ]
        },
        {
          "output_type": "stream",
          "name": "stdout",
          "text": [
            "Test accuracy: 0.17523810267448425\n"
          ]
        }
      ],
      "source": [
        "test_loss, test_acc = model_2.evaluate_generator(test_generator, steps=len(test_generator))\n",
        "print('Test accuracy:', test_acc)"
      ]
    },
    {
      "cell_type": "markdown",
      "source": [
        "Next we'll try ResNet50, a 50 layer CNN developed in 2015. It has a very good reputation."
      ],
      "metadata": {
        "id": "vHY7XWjpCR5d"
      }
    },
    {
      "cell_type": "code",
      "execution_count": 22,
      "metadata": {
        "id": "jiwJw7fVRAOl"
      },
      "outputs": [],
      "source": [
        "from tensorflow.keras.applications import ResNet50\n",
        "from tensorflow.keras.layers import Dense, Dropout, GlobalAveragePooling2D\n",
        "from tensorflow.keras.models import Model\n",
        "\n",
        "def create_model_3():\n",
        "    # Load the ResNet50 model, pre-trained on ImageNet\n",
        "    base_model = ResNet50(weights='imagenet', include_top=False, input_shape=(IMG_SIZE, IMG_SIZE, 3))\n",
        "    \n",
        "    # Freeze the pre-trained layers\n",
        "    for layer in base_model.layers:\n",
        "        layer.trainable = False\n",
        "    \n",
        "    # Add new classification layers on top of the pre-trained layers\n",
        "    x = base_model.output\n",
        "    x = GlobalAveragePooling2D()(x)\n",
        "    x = Dense(256, activation='relu')(x)\n",
        "    x = Dropout(0.5)(x)\n",
        "    predictions = Dense(21, activation='softmax')(x)\n",
        "    \n",
        "    # Define the model to train\n",
        "    model = Model(inputs=base_model.input, outputs=predictions)\n",
        "    \n",
        "    # Compile the model\n",
        "    model.compile(optimizer='adam', loss='categorical_crossentropy', metrics=['accuracy'])\n",
        "    \n",
        "    return model\n"
      ]
    },
    {
      "cell_type": "code",
      "execution_count": 23,
      "metadata": {
        "colab": {
          "base_uri": "https://localhost:8080/"
        },
        "id": "zKf7iBc0R04b",
        "outputId": "a1eec16f-4f0f-4037-d3ae-10ae37986813"
      },
      "outputs": [
        {
          "output_type": "stream",
          "name": "stdout",
          "text": [
            "Epoch 1/10\n",
            "230/230 [==============================] - 135s 566ms/step - loss: 3.0035 - accuracy: 0.0795 - val_loss: 2.8198 - val_accuracy: 0.0986\n",
            "Epoch 2/10\n",
            "230/230 [==============================] - 130s 563ms/step - loss: 2.8164 - accuracy: 0.1068 - val_loss: 2.6818 - val_accuracy: 0.1490\n",
            "Epoch 3/10\n",
            "230/230 [==============================] - 129s 561ms/step - loss: 2.7368 - accuracy: 0.1173 - val_loss: 2.5958 - val_accuracy: 0.1395\n",
            "Epoch 4/10\n",
            "230/230 [==============================] - 130s 564ms/step - loss: 2.6925 - accuracy: 0.1196 - val_loss: 2.5523 - val_accuracy: 0.1919\n",
            "Epoch 5/10\n",
            "230/230 [==============================] - 129s 563ms/step - loss: 2.6627 - accuracy: 0.1322 - val_loss: 2.5005 - val_accuracy: 0.1905\n",
            "Epoch 6/10\n",
            "230/230 [==============================] - 130s 564ms/step - loss: 2.6399 - accuracy: 0.1328 - val_loss: 2.5072 - val_accuracy: 0.1700\n",
            "Epoch 7/10\n",
            "230/230 [==============================] - 130s 566ms/step - loss: 2.6227 - accuracy: 0.1356 - val_loss: 2.4733 - val_accuracy: 0.1981\n",
            "Epoch 8/10\n",
            "230/230 [==============================] - 129s 563ms/step - loss: 2.6102 - accuracy: 0.1420 - val_loss: 2.4442 - val_accuracy: 0.2229\n",
            "Epoch 9/10\n",
            "230/230 [==============================] - 129s 561ms/step - loss: 2.5920 - accuracy: 0.1494 - val_loss: 2.4423 - val_accuracy: 0.2081\n",
            "Epoch 10/10\n",
            "230/230 [==============================] - 129s 561ms/step - loss: 2.5784 - accuracy: 0.1498 - val_loss: 2.4469 - val_accuracy: 0.2062\n"
          ]
        }
      ],
      "source": [
        "model_3 = create_model_3()\n",
        "history_3 = model_3.fit(train_generator,\n",
        "                        epochs=10,\n",
        "                        validation_data=val_generator)"
      ]
    },
    {
      "cell_type": "code",
      "execution_count": 24,
      "metadata": {
        "id": "QXxRFT9UR-Ho",
        "colab": {
          "base_uri": "https://localhost:8080/"
        },
        "outputId": "df953ef0-ff98-45fc-f63d-ba1f0f8a5663"
      },
      "outputs": [
        {
          "output_type": "stream",
          "name": "stderr",
          "text": [
            "<ipython-input-24-d8db4e7cd41e>:1: UserWarning: `Model.evaluate_generator` is deprecated and will be removed in a future version. Please use `Model.evaluate`, which supports generators.\n",
            "  test_loss, test_acc = model_3.evaluate_generator(test_generator, steps=len(test_generator))\n"
          ]
        },
        {
          "output_type": "stream",
          "name": "stdout",
          "text": [
            "Test accuracy: 0.201904758810997\n"
          ]
        }
      ],
      "source": [
        "test_loss, test_acc = model_3.evaluate_generator(test_generator, steps=len(test_generator))\n",
        "print('Test accuracy:', test_acc)"
      ]
    },
    {
      "cell_type": "code",
      "source": [],
      "metadata": {
        "id": "Xt0TMQmFX-Ot"
      },
      "execution_count": null,
      "outputs": []
    }
  ],
  "metadata": {
    "accelerator": "GPU",
    "colab": {
      "machine_shape": "hm",
      "provenance": [],
      "mount_file_id": "17R5hyIG_uZ0ZyEMYAoms-64ECg5H5GoP",
      "authorship_tag": "ABX9TyPq2rQIHwmTbgfqYweWqVmB"
    },
    "gpuClass": "premium",
    "kernelspec": {
      "display_name": "Python 3",
      "name": "python3"
    },
    "language_info": {
      "name": "python"
    }
  },
  "nbformat": 4,
  "nbformat_minor": 0
}